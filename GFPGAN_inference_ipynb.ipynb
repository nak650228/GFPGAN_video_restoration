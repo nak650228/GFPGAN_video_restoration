{
  "nbformat": 4,
  "nbformat_minor": 0,
  "metadata": {
    "accelerator": "GPU",
    "colab": {
      "name": "GFPGAN_inference.ipynb のコピー",
      "provenance": [],
      "collapsed_sections": [
        "RJtKN6ANUADM"
      ],
      "machine_shape": "hm",
      "include_colab_link": true
    },
    "kernelspec": {
      "display_name": "Python 3",
      "name": "python3"
    }
  },
  "cells": [
    {
      "cell_type": "markdown",
      "metadata": {
        "id": "view-in-github",
        "colab_type": "text"
      },
      "source": [
        "<a href=\"https://colab.research.google.com/github/nak650228/GFPGAN_video_restoration/blob/main/GFPGAN_inference_ipynb.ipynb\" target=\"_parent\"><img src=\"https://colab.research.google.com/assets/colab-badge.svg\" alt=\"Open In Colab\"/></a>"
      ]
    },
    {
      "cell_type": "markdown",
      "metadata": {
        "id": "cZ8UXC6Z710x"
      },
      "source": [
        "# GPFGANを用いた動画修復\n"
      ]
    },
    {
      "cell_type": "markdown",
      "metadata": {
        "id": "qWcu6AnK8Da7"
      },
      "source": [
        "# 1. 初期設定"
      ]
    },
    {
      "cell_type": "code",
      "metadata": {
        "colab": {
          "base_uri": "https://localhost:8080/"
        },
        "id": "7odvNQ3P0KAt",
        "cellView": "form",
        "outputId": "0b7435e2-2808-4377-89ea-b61d64a7a18d"
      },
      "source": [
        "#@title ##**割り当てられたGPUの確認**\n",
        "# Check your current GPU\n",
        "# If you are lucky, you get 16GB VRAM. If you are not lucky, you get less. VRAM is important. The more VRAM, the higher the maximum resolution will go.\n",
        "\n",
        "# 16GB: Can handle 720p. 1080p will procude an out-of-memory error. \n",
        "# 8GB: Can handle 480p. 720p will produce an out-of-memory error.\n",
        "#@markdown *割り当てられたGPUのメモリ容量が小さいと、修復が失敗する場合があります。できる限りTesla V100,P100,T4以上を利用してください。*\n",
        "\n",
        "!nvidia-smi --query-gpu=gpu_name,driver_version,memory.total --format=csv"
      ],
      "execution_count": 1,
      "outputs": [
        {
          "output_type": "stream",
          "text": [
            "name, driver_version, memory.total [MiB]\n",
            "Tesla P100-PCIE-16GB, 460.32.03, 16280 MiB\n"
          ],
          "name": "stdout"
        }
      ]
    },
    {
      "cell_type": "code",
      "metadata": {
        "id": "XBjzPNAbHOnF",
        "cellView": "form"
      },
      "source": [
        "#@title　##**基本ライブラリ等のインストール**\n",
        "!pip install youtube_dl\n",
        "!pip install ffmpeg\n",
        "!pip install ffmpeg-python\n",
        "\n",
        "from google.colab import files\n",
        "import shutil\n",
        "import youtube_dl\n",
        "import ffmpeg\n",
        "import cv2\n",
        "import glob\n",
        "import os\n",
        "import moviepy.editor as mpy\n",
        "from IPython.display import clear_output\n",
        "clear_output()"
      ],
      "execution_count": 2,
      "outputs": []
    },
    {
      "cell_type": "code",
      "metadata": {
        "id": "ZwH2ifWEYEfJ",
        "cellView": "form"
      },
      "source": [
        "#@title ##**GFPGANをGithubからクローン**\n",
        "\n",
        "# Clone GFPGAN and enter the GFPGAN folder\n",
        "%cd /content\n",
        "!rm -rf GFPGAN\n",
        "!git clone https://github.com/TencentARC/GFPGAN.git\n",
        "%cd GFPGAN\n",
        "\n",
        "# Set up the environment\n",
        "# Install basicsr - https://github.com/xinntao/BasicSR\n",
        "# We use BasicSR for both training and inference\n",
        "!pip install basicsr\n",
        "# Install facexlib - https://github.com/xinntao/facexlib\n",
        "# We use face detection and face restoration helper in the facexlib package\n",
        "!pip install facexlib\n",
        "# Install other depencencies\n",
        "!pip install -r requirements.txt\n",
        "!python setup.py develop\n",
        "!pip install realesrgan  # used for enhancing the background (non-face) regions\n",
        "# Download the pre-trained model\n",
        "!wget https://github.com/TencentARC/GFPGAN/releases/download/v0.2.0/GFPGANCleanv1-NoCE-C2.pth -P experiments/pretrained_models\n",
        "clear_output()"
      ],
      "execution_count": 3,
      "outputs": []
    },
    {
      "cell_type": "markdown",
      "metadata": {
        "id": "U-8JxpPwg4Xz"
      },
      "source": [
        "# 2. 動画ファイルの指定と調整"
      ]
    },
    {
      "cell_type": "code",
      "metadata": {
        "id": "eaANNxvjMLUZ"
      },
      "source": [
        "#@title ##**ビデオのダウンロード** { display-mode: \"form\" }\n",
        "#@markdown *ビデオへのリンク（YouTubeやTwitterなど）を入力するか、source_urlフィールドを空白にしてください（空白にした場合、コンピューターからビデオをアップロードするよう求められます）。*\n",
        "\n",
        "source_url = '' #@param {type:\"string\"}\n",
        "\n",
        "%cd /content\n",
        "! rm -f /content/*.mp4\n",
        "\n",
        "if source_url == '':\n",
        "  uploaded = files.upload()\n",
        "  for fn in uploaded.keys():\n",
        "    print('User uploaded file \"{name}\" with length {length} bytes'.format(\n",
        "        name=fn, length=len(uploaded[fn])))\n",
        "  os.rename(fn, fn.replace(\" \", \"\"))\n",
        "  fn = fn.replace(\" \", \"\")\n",
        "  file_name = \"downloaded_video.\" + fn.split(\".\")[-1]\n",
        "  !mv -f $fn $file_name\n",
        "\n",
        "else:\n",
        "  try:\n",
        "    ydl_opts = {\n",
        "        'format': 'bestvideo[ext=mp4]+bestaudio[ext=m4a]/mp4',\n",
        "        'outtmpl': 'downloaded_video.mp4',\n",
        "        }\n",
        "    with youtube_dl.YoutubeDL(ydl_opts) as ydl:\n",
        "      ydl.download([source_url])\n",
        "    file_name = 'downloaded_video.mp4'\n",
        "  \n",
        "  except BaseException:\n",
        "    !wget $source_url\n",
        "    fn = source_url.split('/')[-1]\n",
        "    os.rename(fn, fn.replace(\" \", \"\"))\n",
        "    fn = fn.replace(\" \", \"\")\n",
        "    file_name = \"downloaded_video.\" + fn.split(\".\")[-1]\n",
        "    !mv -f $fn $file_name\n",
        "\n",
        "!cp -r downloaded_video.mp4 video.mp4\n",
        "\n",
        "clear_output()\n",
        "\n",
        "fps_of_video = int(cv2.VideoCapture(file_name).get(cv2.CAP_PROP_FPS))\n",
        "frames_of_video = int(cv2.VideoCapture(file_name).get(cv2.CAP_PROP_FRAME_COUNT))\n",
        "width_of_video = int(cv2.VideoCapture(file_name).get(cv2.CAP_PROP_FRAME_WIDTH))\n",
        "height_of_video = int(cv2.VideoCapture(file_name).get(cv2.CAP_PROP_FRAME_HEIGHT))\n",
        "print (\"FPS of VIDEO: \",fps_of_video)\n",
        "print (\"Frames of VIDEO: \",frames_of_video)\n",
        "print (\"Width of VIDEO: \",width_of_video)\n",
        "print (\"Height of VIDEO: \",height_of_video)\n",
        "\n",
        "\n",
        "#@markdown *ダウンロードは失敗することがあります。もし失敗しても再度実行することでダウンロードできることがあります。*\n",
        "\n",
        "#@markdown *ダウンロードに成功すると、1秒間当たりのフレーム数や、全体のフレーム数、縦横の解像度が出力結果に表示されます（下の例を参照）この結果を参考にして動画の調整を行ってください。*\n",
        "\n",
        "#@markdown *FPS of VIDEO:  29*\n",
        "\n",
        "#@markdown *Frames of VIDEO:  448*\n",
        "\n",
        "#@markdown *Width of VIDEO:  640*\n",
        "\n",
        "#@markdown *Height of VIDEO:  480*"
      ],
      "execution_count": null,
      "outputs": []
    },
    {
      "cell_type": "code",
      "metadata": {
        "id": "04nmb31hVZ44"
      },
      "source": [
        "#@title ##**ダウンロードした動画を表示** { display-mode: \"form\" }\n",
        "#@markdown *what_nextにplayを指定すると、Youtubeからダウンロードした動画を表示します。解像度が大きな動画は表示が失敗することがあります。その場合はwhat_nextにdownloadを指定して、PCなどにダウンロードして確認して下さい*\n",
        "\n",
        "what_next = 'play' #@param [\"play\", \"download\"]\n",
        "if what_next == \"play\":\n",
        "  display(mpy.ipython_display(\"/content/downloaded_video.mp4\", autoplay=1, maxduration=600))\n",
        "else:\n",
        "  files.download('/content/downloaded_video.mp4')"
      ],
      "execution_count": 5,
      "outputs": []
    },
    {
      "cell_type": "code",
      "metadata": {
        "id": "5ObdmOuzz13m"
      },
      "source": [
        "#@markdown *1分以上の動画をダウンロードすることはお勧めできません。また、タイトルに「スペース」や「ドット」が含まれている動画はアップロードしないでください。*\n",
        "\n",
        "#@markdown *実行中にエラーが発生した場合は、このブロックを再度実行します。*\n",
        "\n",
        "#@title ##**動画の調整** { display-mode: \"form\" }\n",
        "#@markdown *動画の長さを変更することができます。*\n",
        "\n",
        "#@markdown **動画の長さを変更する場合は、その開始時間と終了時間を指定して下さい。**\n",
        "target_start = '00:00:00' #@param {type:\"string\"}\n",
        "target_end = '00:00:00' #@param {type:\"string\"}\n",
        "\n",
        "#@markdown **動画の解像度を変更する場合は、新しい解像度を指定してください（例 640 x 480）。この値を指定しない場合は、元の解像度がそのまま使われます。**\n",
        "#@markdown **GFP GANの出力結果は解像度が2倍になるため、この値を大きくすることはお勧めできません**\n",
        "#@markdown **できる限り縦の解像度は540以下にすることをお勧めします。**\n",
        "width = \"\" #@param {type:\"string\"}\n",
        "height = \"\" #@param {type:\"string\"}\n",
        "\n",
        "rescale = \"\"\n",
        "if width != '' and height != '':\n",
        "#  rescale = f\"-s {width}x{height}\"\n",
        "  rescale = f\"-vf scale={width}:{height}\"\n",
        "\n",
        "if os.path.isfile(\"/content/video.mp4\") :\n",
        "    !rm -f /content/video.mp4\n",
        "if os.path.isfile(\"/content/cropped_video.mp4\") :\n",
        "    !rm -f /content/cropped_video.mp4\n",
        "\n",
        "if os.path.isfile(\"/content/cropped_video.mp4\") :\n",
        "    !rm -f cropped_video.mp4\n",
        "!ffmpeg -i /content/downloaded_video.mp4 $rescale -ss $target_start -to $target_end /content/cropped_video.mp4\n",
        "#clear_output()\n",
        "\n",
        "!cp /content/cropped_video.mp4 /content/video.mp4\n",
        "\n",
        "\n",
        "clear_output()\n",
        "file_name=\"/content/video.mp4\"\n",
        "fps_of_video = int(cv2.VideoCapture(file_name).get(cv2.CAP_PROP_FPS))\n",
        "frames_of_video = int(cv2.VideoCapture(file_name).get(cv2.CAP_PROP_FRAME_COUNT))\n",
        "width_of_video = int(cv2.VideoCapture(file_name).get(cv2.CAP_PROP_FRAME_WIDTH))\n",
        "height_of_video = int(cv2.VideoCapture(file_name).get(cv2.CAP_PROP_FRAME_HEIGHT))\n",
        "print (\"FPS of VIDEO: \",fps_of_video)\n",
        "print (\"Frames of VIDEO: \",frames_of_video)\n",
        "print (\"Width of VIDEO: \",width_of_video)\n",
        "print (\"Height of VIDEO: \",height_of_video)"
      ],
      "execution_count": null,
      "outputs": []
    },
    {
      "cell_type": "code",
      "metadata": {
        "id": "IqUFrU1vMiXw"
      },
      "source": [
        "#@title ##**サイズ調整後の動画を表示（修復対象）** { display-mode: \"form\" }\n",
        "#@markdown *what_nextにplayを指定すると、動画の調整で指定した結果を表示します。解像度が大きな動画は表示が失敗することがあります。その場合はwhat_nextにdownloadを指定して、PCなどにダウンロードして確認して下さい*\n",
        "what_next = 'play' #@param [\"play\", \"download\"]\n",
        "if what_next == \"play\":\n",
        "#  display(mpy.ipython_display(\"/content/video.mp4\", height=400, autoplay=1, maxduration=600))\n",
        "  display(mpy.ipython_display(\"/content/video.mp4\", autoplay=1, maxduration=600))\n",
        "else:\n",
        "  files.download('/content/video.mp4')"
      ],
      "execution_count": null,
      "outputs": []
    },
    {
      "cell_type": "markdown",
      "metadata": {
        "id": "_cdNn0vr8OnG"
      },
      "source": [
        "# 3. GFPGAN メイン処理"
      ]
    },
    {
      "cell_type": "code",
      "metadata": {
        "id": "OzlCT4FRGrGt"
      },
      "source": [
        "#@title ##**ビデオを静止画フレームに分解する** { display-mode: \"form\" }\n",
        "upload_folder = \"/content/GFPGAN/inputs/upload\"\n",
        "if os.path.isdir(upload_folder):\n",
        "    shutil.rmtree(upload_folder)\n",
        "\n",
        "os.mkdir(upload_folder)\n",
        "\n",
        "%cd /content/GFPGAN/inputs/upload\n",
        "\n",
        "!ffmpeg -i /content/video.mp4 %09d.png\n",
        "\n",
        "clear_output()"
      ],
      "execution_count": 8,
      "outputs": []
    },
    {
      "cell_type": "code",
      "metadata": {
        "id": "lmQVC3s97z4z"
      },
      "source": [
        "#@title ##**GFPGANによる修復** { display-mode: \"form\" }\n",
        "# Now we use the GFPGAN to restore the above low-quality images\n",
        "# We use [Real-ESRGAN](https://github.com/xinntao/Real-ESRGAN) for enhancing the background (non-face) regions\n",
        "%cd /content/GFPGAN\n",
        "!rm -rf results\n",
        "!python inference_gfpgan.py --upscale 2 --test_path inputs/upload --save_root results --model_path experiments/pretrained_models/GFPGANCleanv1-NoCE-C2.pth --bg_upsampler realesrgan\n",
        "clear_output()\n",
        "\n",
        "!ls results/cmp"
      ],
      "execution_count": null,
      "outputs": []
    },
    {
      "cell_type": "code",
      "metadata": {
        "id": "Asmkh0VyKFa7"
      },
      "source": [
        "#@title ##**修復した静止画を動画に復元** { display-mode: \"form\" }\n",
        "#!ffmpeg -vsync 0 -hwaccel cuvid -c:v mjpeg_cuvid -framerate 30 -i /content/TecoGAN/results/My_video/*.png -c:v h264_nvenc quaid2.mp4\n",
        "if os.path.isfile(\"/content/restored_video.mp4\") :\n",
        "    !rm -f /content/restored_video.mp4\n",
        "\n",
        "!ffmpeg -f image2 -framerate 30 -i /content/GFPGAN/results/restored_imgs/%09d.png -c:v h264_nvenc -preset slow -qp 18 -pix_fmt yuv420p /content/restored_video.mp4\n",
        "!rm -f /content/video.mp4\n",
        "!cp /content/restored_video.mp4 /content/video.mp4\n",
        "\n",
        "clear_output()"
      ],
      "execution_count": null,
      "outputs": []
    },
    {
      "cell_type": "code",
      "metadata": {
        "id": "lvR7i4CEPfg9"
      },
      "source": [
        "#@title ##**修復した動画を表示** { display-mode: \"form\" }\n",
        "#@markdown *what_nextにplayを指定すると、GFPGANで修復した結果を表示します。解像度が大きな動画は表示が失敗することがあります。その場合はwhat_nextにdownloadを指定して、PCなどにダウンロードして確認して下さい*\n",
        "what_next = 'play' #@param [\"play\", \"download\"]\n",
        "if what_next == \"play\":\n",
        "#  display(mpy.ipython_display(\"/content/video.mp4\", height=400, autoplay=1, maxduration=600))\n",
        "  display(mpy.ipython_display(\"/content/video.mp4\", autoplay=1, maxduration=600))\n",
        "else:\n",
        "  files.download('/content/video.mp4')"
      ],
      "execution_count": null,
      "outputs": []
    }
  ]
}